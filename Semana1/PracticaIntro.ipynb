{
 "cells": [
  {
   "cell_type": "markdown",
   "metadata": {},
   "source": [
    "# Práctica Intro HTML\n",
    "\n",
    "## Caso Abogabot\n",
    "\n",
    "Descripción:\n",
    "<ul>\n",
    "<li>Es un despacho de abogados que quiere automatizar las demandas de sus clientes, esto lo harán a traves de una página web llenando un formulario.</li>\n",
    "\n",
    "<li>Al momento de llenar el formulario se manda al proceso de pago para finalizar la transacción.</li>\n",
    "\n",
    "<li>Para dar seguimiento a su demanda, el cliente crea una cuenta en la plataforma y verá el seguimiento de cada una de las actualizaciones del proceso legal.</li>\n",
    "\n",
    "<li>El administrador del sitio recbe la notificación de una nueva demanda y con los datos llenados del formulario se crea automaticamente el documento legal en formato word para empezar el proceso.</li>\n",
    "\n",
    "<li>El administrador recibe el pago y debe de ser capaz de verlo en un dashboard para ver la cantidad de ingresos recibidos.</li>\n",
    "\n",
    "<li>El administrador actualiza el proceso de la demanda y agrega comentarios en cada paso del proceso.</li>\n",
    "\n",
    "<li>Al usuario le llegan correos de notificación para saber el avance de su proceso.</li>\n",
    "\n",
    "<li>La página debe de ser responsive para poderla ver desde el celular.</li>\n",
    "\n",
    "<li>La preferncia de colores del cliente es azul marino y blanco, pero acepta propuestas.</li>\n",
    "\n",
    "<li>Practicas\n",
    "    <ul>\n",
    "    <li>Toma de requerimientos</li>\n",
    "    <li>Crea tu buyer persona</li>\n",
    "    <li>Publico objetivo</li>\n",
    "    <li>Crea tu primer Wireframe UX</li>\n",
    "    <li>Ahora el UI</li>\n",
    "    </ul>\n",
    "</ul>"
   ]
  },
  {
   "cell_type": "markdown",
   "metadata": {},
   "source": [
    "## Planteamiento\n",
    "\n",
    "En primer punto intenté comprender las situaciones de uso de la aplicación web, las situaciones por las que los clientes deberán pasar cuando hagan uso de ella, de esta manera hacer una aplicación minimalista que ayude a optimizar los tiempos de uso. \n",
    "En cuanto a diseño se optó por mantener los colores que el cliente opto como principales propuestas, creando también un logotipo en los mismos colores que permita dar esa imagen de seriedad pero con una tipografía que haga referencia al uso de la tecnología.\n",
    "\n",
    "<img src=\"Logos/logoab.png\">"
   ]
  },
  {
   "cell_type": "markdown",
   "metadata": {},
   "source": [
    "## Toma de requerimientos:\n",
    "\n",
    "<li>Sistema de login</li>\n",
    "<li>Establecer roles de usuario</li>\n",
    "<li>Formulario para demandas</li>\n",
    "<li>Pago de transacciones</li>\n",
    "<li>Sistema con notificaciones</li>\n",
    "<li>Conversión del formulario a un formato Word</li>\n",
    "<li>Dashboard de ingresos recibidos</li>\n",
    "<li>Procesos de avance de las demandas (Estado actual)</li>\n",
    "<li>Comentarios dentro de las demandas para los usuarios implicados</li>\n",
    "<li>Diseño responsive</li>"
   ]
  },
  {
   "cell_type": "markdown",
   "metadata": {},
   "source": [
    "## Buyer persona\n",
    "\n",
    "Roberto Jiménez es un Lic. en derecho que actualmente tiene una concesionaria pequeña, en la cual recibe a muchos clientes al día, es una persona de negocios que se encarga de contactar a los mejores abogados para que trabajen de la mano con él. \n",
    "\n",
    "Su meta más grande es posicionar a su concesionaria como una de las más reconocidas del país, brindando la ayuda de los mejores especialistas en cada caso.\n",
    "\n",
    "<img src=\"Buyer Persona/buyerpersona.jpg\">"
   ]
  },
  {
   "cell_type": "markdown",
   "metadata": {},
   "source": [
    "## Público objetivo\n",
    "\n",
    "<ul><h3>Datos Demográficos</h3>\n",
    "<li>Mayores de 21 años.</li>\n",
    "<li>Sin distincion de género.</li>\n",
    "<li>Ingresos superiores al promedio de la población.</li>\n",
    "<li>Sin distincion de raza.</li>\n",
    "</ul>\n",
    "<ul><h3>Datos Geográficos</h3>\n",
    "<li>Habitantes del área metropolitana.</li>\n",
    "<li>Dominio del idioma español.</li>\n",
    "</ul>\n",
    "<ul><h3>Datos Psicográficos</h3>\n",
    "<li>Ritmo de vida ocupado por negocios.</li>\n",
    "<li>Buscan prácticidad en los procesos.</li>\n",
    "<li>Hacen uso de la tecnología.</li>\n",
    "<li>Les interesa el proceso.</li>\n",
    "</ul>\n",
    "<ul><h3>Datos Psicográficos</h3>\n",
    "<li>Han tenido incidentes legales.</li>\n",
    "<li>Conocen la concesionaria.</li>\n",
    "</ul>\n",
    "\n",
    "<img src=\"Publico objetivo/publico.jpg\">"
   ]
  },
  {
   "cell_type": "markdown",
   "metadata": {},
   "source": [
    "## Wireframe\n",
    "\n",
    "Lo más importante para la experiencia del usuario es que tenga un diseño minimalista, puesto que todos los clientes buscan acelerar el proceso y no queremos saturar la pantalla de información, es por eso que con unos pequeños botones y formularios debe ser suficiente para cumplir con el objetivo.\n",
    "\n",
    "<img src=\"UX/ux.jpg\">"
   ]
  },
  {
   "cell_type": "markdown",
   "metadata": {},
   "source": [
    "## User Interface\n",
    "\n",
    "Para la interfaz que verá el usuario, se decidió emplear los colores predilectos del cliente (Azul marino, blanco), agregando el logo a la parte superior izquierda dentro de una cabecera de color azul, y el contenido de la página en color blanco, que le de una imagen de seriedad y seguridad al usuario que navega por ella.\n",
    "\n",
    "<img src=\"UI/ui.png\">"
   ]
  }
 ],
 "metadata": {
  "interpreter": {
   "hash": "89b7422951551357948d94ca2a09a51fbf46924b236118c25a999d71ac3a1f83"
  },
  "kernelspec": {
   "display_name": "Python 3.10.0 64-bit",
   "language": "python",
   "name": "python3"
  },
  "language_info": {
   "name": "python",
   "version": "3.10.0"
  },
  "orig_nbformat": 4
 },
 "nbformat": 4,
 "nbformat_minor": 2
}
