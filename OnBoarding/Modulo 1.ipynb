{
 "cells": [
  {
   "cell_type": "code",
   "execution_count": null,
   "metadata": {},
   "outputs": [],
   "source": []
  },
  {
   "cell_type": "markdown",
   "metadata": {},
   "source": [
    "# Primeros pasos"
   ]
  },
  {
   "cell_type": "markdown",
   "metadata": {},
   "source": [
    "## Fecha actual\n",
    "Crea un programa que imprima la fecha del día actual."
   ]
  },
  {
   "cell_type": "code",
   "execution_count": 2,
   "metadata": {},
   "outputs": [
    {
     "name": "stdout",
     "output_type": "stream",
     "text": [
      "La fecha de hoy es:2022-02-07\n"
     ]
    }
   ],
   "source": [
    "from datetime import date\n",
    "\n",
    "print(\"La fecha de hoy es:\"+str(date.today()))"
   ]
  },
  {
   "cell_type": "markdown",
   "metadata": {},
   "source": [
    "## Convertidor de unidades\n",
    "Crea un programa que convierta entre parsec y años luz."
   ]
  },
  {
   "cell_type": "code",
   "execution_count": 17,
   "metadata": {},
   "outputs": [
    {
     "name": "stdout",
     "output_type": "stream",
     "text": [
      "3.26 años luz son: 0.9995217012717841 parsec\n"
     ]
    }
   ],
   "source": [
    "#Un parsec = 3.26156 años luz\n",
    "\n",
    "opc=int\n",
    "lightyear=float\n",
    "parsec=float \n",
    "\n",
    "opc=int(input(\"Ingresa 1 para convertir de parsec a años luz, o 2 para ingresar de años luz a parsec\"))\n",
    "if opc == 1:\n",
    "    parsec=float(input(\"Ingresa las unidades parsec a convertir\"))\n",
    "    lightyear=parsec*3.26156\n",
    "    print(str(parsec)+\" parsec son: \"+str(lightyear) +\" años luz\")\n",
    "elif opc==2:\n",
    "    lightyear=float(input(\"Ingresa las unidades años luz a convertir\"))\n",
    "    parsec=lightyear/3.26156\n",
    "    print(str(lightyear)+\" años luz son: \"+str(parsec) +\" parsec\")\n",
    "\n"
   ]
  }
 ],
 "metadata": {
  "interpreter": {
   "hash": "89b7422951551357948d94ca2a09a51fbf46924b236118c25a999d71ac3a1f83"
  },
  "kernelspec": {
   "display_name": "Python 3.10.0 64-bit",
   "language": "python",
   "name": "python3"
  },
  "language_info": {
   "codemirror_mode": {
    "name": "ipython",
    "version": 3
   },
   "file_extension": ".py",
   "mimetype": "text/x-python",
   "name": "python",
   "nbconvert_exporter": "python",
   "pygments_lexer": "ipython3",
   "version": "3.10.0"
  },
  "orig_nbformat": 4
 },
 "nbformat": 4,
 "nbformat_minor": 2
}
