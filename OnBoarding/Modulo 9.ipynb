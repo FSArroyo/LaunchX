{
 "cells": [
  {
   "cell_type": "markdown",
   "metadata": {},
   "source": [
    "# Funciones en Python\n",
    "## Ejercicio 1: Argumentos\n",
    "Comienza por crear una función que necesite tres lecturas de combustible y devuelva un informe:"
   ]
  },
  {
   "cell_type": "code",
   "execution_count": 7,
   "metadata": {},
   "outputs": [],
   "source": [
    "def Informar (tanque1,tanque2,tanque3):\n",
    "    promedio=Promedio(tanque1,tanque2,tanque3)\n",
    "    print(f\"El promedio es: {promedio}\")"
   ]
  },
  {
   "cell_type": "markdown",
   "metadata": {},
   "source": [
    "Ahora que hemos definido la función de informes, vamos a comprobarlo. Para esta misión, los tanques no están llenos:"
   ]
  },
  {
   "cell_type": "code",
   "execution_count": 8,
   "metadata": {},
   "outputs": [
    {
     "name": "stdout",
     "output_type": "stream",
     "text": [
      "El promedio es: 27.0\n"
     ]
    }
   ],
   "source": [
    "Informar(25,36,20)"
   ]
  },
  {
   "cell_type": "markdown",
   "metadata": {},
   "source": [
    "En lugar de simplemente crear el informe, la función también está calculando el promedio. Mejora la legibilidad extrayendo el cálculo promedio de la función en una nueva función para que el promedio se pueda hacer de forma independiente:"
   ]
  },
  {
   "cell_type": "code",
   "execution_count": 9,
   "metadata": {},
   "outputs": [],
   "source": [
    "def Promedio(tanque1,tanque2,tanque3):\n",
    "    return (tanque1+tanque2+tanque3)/3"
   ]
  },
  {
   "cell_type": "markdown",
   "metadata": {},
   "source": [
    "## Ejercicio 2: Argumentos de palabras clave\n",
    "En este ejercicio, construirás un informe de cohete que requiere varias piezas de información, como el tiempo hasta el destino, el combustible a la izquierda y el nombre del destino. Comienza por crear una función que creará un informe preciso de la misión:"
   ]
  },
  {
   "cell_type": "code",
   "execution_count": 10,
   "metadata": {},
   "outputs": [
    {
     "name": "stdout",
     "output_type": "stream",
     "text": [
      "El destino al que se viaja es: Luna con un tiempo total aproximado de 310 minutos, teniendo 12000 litros de combustible\n"
     ]
    }
   ],
   "source": [
    "def Reporte(prelanzamiento, tiempo, texterno, tinterno, destino):\n",
    "    print(f\"\"\"El destino al que se viaja es: {destino}. \n",
    "    Con un tiempo total aproximado de {tiempo+prelanzamiento} minutos.\n",
    "    Teniendo {texterno+tinterno} litros de combustible.\"\"\")\n",
    "\n",
    "Reporte(200,110,5000,7000,\"Luna\")"
   ]
  },
  {
   "cell_type": "markdown",
   "metadata": {},
   "source": [
    "La función es problemática porque no se puede adaptar para minutos adicionales o tanques adicionales de combustible. Hazlo más flexible permitiendo cualquier número de pasos basados en el tiempo y cualquier número de tanques. En lugar de usar *args y **kwargs, aprovecha el hecho de que puedes usar cualquier nombre que desees. Asegurate que la función sea más legible mediante el uso de nombres de variables que están asociados con las entradas, como *minutes y **fuel_reservoirs:"
   ]
  },
  {
   "cell_type": "code",
   "execution_count": 12,
   "metadata": {},
   "outputs": [
    {
     "name": "stdout",
     "output_type": "stream",
     "text": [
      "El destino al que se viaja es: Luna. \n",
      "    Con un tiempo total aproximado de 310 minutos.\n",
      "    Teniendo 12000 litros de combustible.\n"
     ]
    }
   ],
   "source": [
    "def Reporte(destino, *tiempo, **combustible):\n",
    "    print(f\"\"\"El destino al que se viaja es: {destino}. \n",
    "    Con un tiempo total aproximado de {sum(tiempo)} minutos.\n",
    "    Teniendo {sum(combustible.values())} litros de combustible.\"\"\")\n",
    "\n",
    "Reporte(\"Luna\",200,110,interno=5000,externo=7000)"
   ]
  },
  {
   "cell_type": "markdown",
   "metadata": {},
   "source": [
    "Debido a que el combustible que queda en los tanques es específico de cada tanque, actualiza la función para usar el nombre de cada tanque en el informe:"
   ]
  },
  {
   "cell_type": "code",
   "execution_count": 15,
   "metadata": {},
   "outputs": [
    {
     "name": "stdout",
     "output_type": "stream",
     "text": [
      "El destino al que se viaja es: Luna. \n",
      "    Con un tiempo total aproximado de 310 minutos. \n",
      "Al tanque interno le quedan 5000 litros de combustible \n",
      "Al tanque externo le quedan 7000 litros de combustible \n",
      "\n"
     ]
    }
   ],
   "source": [
    "def Reporte(destino, *tiempo, **combustible):\n",
    "    reporte=f\"\"\"El destino al que se viaja es: {destino}. \n",
    "    Con un tiempo total aproximado de {sum(tiempo)} minutos. \\n\"\"\"\n",
    "    for tanque, litros in combustible.items():\n",
    "        reporte+=f\"Al tanque {tanque} le quedan {litros} litros de combustible \\n\"\n",
    "    return reporte\n",
    "\n",
    "print(Reporte(\"Luna\",200,110,interno=5000,externo=7000))"
   ]
  }
 ],
 "metadata": {
  "interpreter": {
   "hash": "cccd67ee28ea96d6dd30688e723d6c86aad9c69ac24d1d27369104d017b824f1"
  },
  "kernelspec": {
   "display_name": "Python 3.10.2 64-bit (windows store)",
   "language": "python",
   "name": "python3"
  },
  "language_info": {
   "codemirror_mode": {
    "name": "ipython",
    "version": 3
   },
   "file_extension": ".py",
   "mimetype": "text/x-python",
   "name": "python",
   "nbconvert_exporter": "python",
   "pygments_lexer": "ipython3",
   "version": "3.10.0"
  },
  "orig_nbformat": 4
 },
 "nbformat": 4,
 "nbformat_minor": 2
}
