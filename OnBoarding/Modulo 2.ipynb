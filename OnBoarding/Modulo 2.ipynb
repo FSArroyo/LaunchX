{
 "cells": [
  {
   "cell_type": "markdown",
   "metadata": {},
   "source": [
    "# Entorno Virtual"
   ]
  },
  {
   "cell_type": "markdown",
   "metadata": {},
   "source": [
    "![Imagen](https://i.imgur.com/GMFgWfY_d.webp?maxwidth=760&fidelity=grand)"
   ]
  },
  {
   "cell_type": "markdown",
   "metadata": {},
   "source": [
    "En este modulo se ha creado un entorno virtual dentro del cual se puede ejecutar codigo de manera segura, para que esto no pueda afectar a otras partes del programa.\n",
    "Para esto primero se hace uso del comando:\n",
    "\n",
    "* *python3 -m venv env*\n",
    "\n",
    "Posteriormente entramos a la carpeta en la que se haya creado el script llamado \"activate\", en mi caso es dentro de la carpeta Scripts\n",
    "\n",
    "* *Ruta\\env\\Scripts\\activate*\n",
    "\n",
    "Ahora podremos observar que tenemos un (env) antes de la ruta lo cual nos indica que nos encontramos dentro del entorno virtual\n",
    "Por ultimo instalamos algunos paquetes para comprobar con el comando:\n",
    "\n",
    "* *pip install dateutil*\n",
    "\n",
    "Y para verificar los paquetes que tenemos instalados utilizamos:\n",
    "\n",
    "* *pip freeze*\n"
   ]
  },
  {
   "cell_type": "markdown",
   "metadata": {},
   "source": []
  }
 ],
 "metadata": {
  "interpreter": {
   "hash": "89b7422951551357948d94ca2a09a51fbf46924b236118c25a999d71ac3a1f83"
  },
  "kernelspec": {
   "display_name": "Python 3.10.0 64-bit",
   "language": "python",
   "name": "python3"
  },
  "language_info": {
   "codemirror_mode": {
    "name": "ipython",
    "version": 3
   },
   "file_extension": ".py",
   "mimetype": "text/x-python",
   "name": "python",
   "nbconvert_exporter": "python",
   "pygments_lexer": "ipython3",
   "version": "3.10.0"
  },
  "orig_nbformat": 4
 },
 "nbformat": 4,
 "nbformat_minor": 2
}
